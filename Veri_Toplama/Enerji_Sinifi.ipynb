{
 "cells": [
  {
   "cell_type": "code",
   "execution_count": 1,
   "id": "050f205f",
   "metadata": {},
   "outputs": [],
   "source": [
    "import pandas as pd\n",
    "import numpy as np"
   ]
  },
  {
   "cell_type": "code",
   "execution_count": 2,
   "id": "b70592bf",
   "metadata": {},
   "outputs": [],
   "source": [
    "data_path = r\"C:\\Users\\YASEMİN\\Desktop\\212803043_Yasemin_Kılınç_MakineProje\\Veri_Toplama\\veri_on_isleme.xlsx\"\n",
    "dataset = pd.read_excel(data_path)"
   ]
  },
  {
   "cell_type": "code",
   "execution_count": 3,
   "id": "9f12fda9",
   "metadata": {},
   "outputs": [
    {
     "data": {
      "text/html": [
       "<div>\n",
       "<style scoped>\n",
       "    .dataframe tbody tr th:only-of-type {\n",
       "        vertical-align: middle;\n",
       "    }\n",
       "\n",
       "    .dataframe tbody tr th {\n",
       "        vertical-align: top;\n",
       "    }\n",
       "\n",
       "    .dataframe thead th {\n",
       "        text-align: right;\n",
       "    }\n",
       "</style>\n",
       "<table border=\"1\" class=\"dataframe\">\n",
       "  <thead>\n",
       "    <tr style=\"text-align: right;\">\n",
       "      <th></th>\n",
       "      <th>Markalar</th>\n",
       "      <th>Buzluk_Tipi</th>\n",
       "      <th>Derinlik</th>\n",
       "      <th>Dondurucu_Yeri</th>\n",
       "      <th>Dondurucu_Ozelligi</th>\n",
       "      <th>Enerji_Sinifi</th>\n",
       "      <th>Garanti_Suresi</th>\n",
       "      <th>Tip</th>\n",
       "      <th>Toplam_Hacim</th>\n",
       "      <th>Ucretsiz_Kurulum_Var_Mi</th>\n",
       "      <th>Fiyat</th>\n",
       "    </tr>\n",
       "  </thead>\n",
       "  <tbody>\n",
       "    <tr>\n",
       "      <th>0</th>\n",
       "      <td>VESTEL</td>\n",
       "      <td>Standart</td>\n",
       "      <td>72.000000</td>\n",
       "      <td>Üstte</td>\n",
       "      <td>No Frost</td>\n",
       "      <td>F</td>\n",
       "      <td>3</td>\n",
       "      <td>Çift Kapılı</td>\n",
       "      <td>474.581967</td>\n",
       "      <td>Var</td>\n",
       "      <td>15100</td>\n",
       "    </tr>\n",
       "    <tr>\n",
       "      <th>1</th>\n",
       "      <td>VESTEL</td>\n",
       "      <td>Standart</td>\n",
       "      <td>54.000000</td>\n",
       "      <td>Üstte</td>\n",
       "      <td>Statik</td>\n",
       "      <td>F</td>\n",
       "      <td>3</td>\n",
       "      <td>Çift Kapılı</td>\n",
       "      <td>474.581967</td>\n",
       "      <td>Yok</td>\n",
       "      <td>8790</td>\n",
       "    </tr>\n",
       "    <tr>\n",
       "      <th>2</th>\n",
       "      <td>Profilo</td>\n",
       "      <td>Standart</td>\n",
       "      <td>72.961945</td>\n",
       "      <td>Üstte</td>\n",
       "      <td>No Frost</td>\n",
       "      <td>F</td>\n",
       "      <td>2</td>\n",
       "      <td>Çift Kapılı</td>\n",
       "      <td>526.000000</td>\n",
       "      <td>Var</td>\n",
       "      <td>24279</td>\n",
       "    </tr>\n",
       "    <tr>\n",
       "      <th>3</th>\n",
       "      <td>VESTEL</td>\n",
       "      <td>Standart</td>\n",
       "      <td>48.000000</td>\n",
       "      <td>Üstte</td>\n",
       "      <td>Statik</td>\n",
       "      <td>F</td>\n",
       "      <td>3</td>\n",
       "      <td>Tezgah Altı</td>\n",
       "      <td>474.581967</td>\n",
       "      <td>Yok</td>\n",
       "      <td>4775</td>\n",
       "    </tr>\n",
       "    <tr>\n",
       "      <th>4</th>\n",
       "      <td>LG</td>\n",
       "      <td>Kartuşlu</td>\n",
       "      <td>72.961945</td>\n",
       "      <td>Altta</td>\n",
       "      <td>No Frost</td>\n",
       "      <td>E</td>\n",
       "      <td>3</td>\n",
       "      <td>Gardırop Tipi</td>\n",
       "      <td>601.000000</td>\n",
       "      <td>Var</td>\n",
       "      <td>109899</td>\n",
       "    </tr>\n",
       "  </tbody>\n",
       "</table>\n",
       "</div>"
      ],
      "text/plain": [
       "  Markalar Buzluk_Tipi   Derinlik Dondurucu_Yeri Dondurucu_Ozelligi  \\\n",
       "0   VESTEL    Standart  72.000000          Üstte           No Frost   \n",
       "1   VESTEL    Standart  54.000000          Üstte             Statik   \n",
       "2  Profilo    Standart  72.961945          Üstte           No Frost   \n",
       "3   VESTEL    Standart  48.000000          Üstte             Statik   \n",
       "4       LG    Kartuşlu  72.961945          Altta           No Frost   \n",
       "\n",
       "  Enerji_Sinifi  Garanti_Suresi            Tip  Toplam_Hacim  \\\n",
       "0             F               3    Çift Kapılı    474.581967   \n",
       "1             F               3    Çift Kapılı    474.581967   \n",
       "2             F               2    Çift Kapılı    526.000000   \n",
       "3             F               3    Tezgah Altı    474.581967   \n",
       "4             E               3  Gardırop Tipi    601.000000   \n",
       "\n",
       "  Ucretsiz_Kurulum_Var_Mi   Fiyat  \n",
       "0                     Var   15100  \n",
       "1                     Yok    8790  \n",
       "2                     Var   24279  \n",
       "3                     Yok    4775  \n",
       "4                     Var  109899  "
      ]
     },
     "execution_count": 3,
     "metadata": {},
     "output_type": "execute_result"
    }
   ],
   "source": [
    "dataset.head()"
   ]
  },
  {
   "cell_type": "code",
   "execution_count": 4,
   "id": "3e528948",
   "metadata": {},
   "outputs": [],
   "source": [
    "dataset[\"Enerji_Sinifi\"] = dataset.Enerji_Sinifi.str.replace(' ', '')\n",
    "list_EnerjiSinifi = dataset[\"Enerji_Sinifi\"].unique()\n",
    "list_EnerjiSinifi.sort()\n",
    "list_EnerjiSinifi = list(list_EnerjiSinifi)\n",
    "df_EnerjiSinifi = pd.DataFrame()\n",
    "df_EnerjiSinifi[\"Enerji_Sinifi\"] = list_EnerjiSinifi"
   ]
  },
  {
   "cell_type": "code",
   "execution_count": 5,
   "id": "fda79ca2",
   "metadata": {},
   "outputs": [],
   "source": [
    "df_EnerjiSinifi.to_excel(\"Enerji_Sinifi.xlsx\", index=False)"
   ]
  },
  {
   "cell_type": "code",
   "execution_count": null,
   "id": "2d38e12b",
   "metadata": {},
   "outputs": [],
   "source": []
  }
 ],
 "metadata": {
  "kernelspec": {
   "display_name": "Python 3 (ipykernel)",
   "language": "python",
   "name": "python3"
  },
  "language_info": {
   "codemirror_mode": {
    "name": "ipython",
    "version": 3
   },
   "file_extension": ".py",
   "mimetype": "text/x-python",
   "name": "python",
   "nbconvert_exporter": "python",
   "pygments_lexer": "ipython3",
   "version": "3.11.5"
  }
 },
 "nbformat": 4,
 "nbformat_minor": 5
}
