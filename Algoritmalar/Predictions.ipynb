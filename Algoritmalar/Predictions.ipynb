{
 "cells": [
  {
   "cell_type": "code",
   "execution_count": 13,
   "id": "809b7dd9",
   "metadata": {},
   "outputs": [],
   "source": [
    "import pandas as pd\n",
    "import numpy as np\n",
    "import joblib"
   ]
  },
  {
   "cell_type": "code",
   "execution_count": 14,
   "id": "5ec36094",
   "metadata": {},
   "outputs": [],
   "source": [
    "dtmodel = r\"C:\\Users\\YASEMİN\\Desktop\\212803043_Yasemin_Kılınç_MakineProje\\Algoritmalar\\decision_tree_training.pkl\"\n",
    "dt_model=joblib.load(dtmodel)\n",
    "rfmodel = r\"C:\\Users\\YASEMİN\\Desktop\\212803043_Yasemin_Kılınç_MakineProje\\Algoritmalar\\random_forest_regression_model.pkl\"\n",
    "rf_model=joblib.load(rfmodel)\n",
    "svmodel = r\"C:\\Users\\YASEMİN\\Desktop\\212803043_Yasemin_Kılınç_MakineProje\\Algoritmalar\\svr_regression_model.pkl\"\n",
    "sv_model=joblib.load(svmodel)\n",
    "elmodel = r\"C:\\Users\\YASEMİN\\Desktop\\212803043_Yasemin_Kılınç_MakineProje\\Algoritmalar\\elasticnet_model.pkl\"\n",
    "el_model=joblib.load(elmodel)\n",
    "knnmodel = r\"C:\\Users\\YASEMİN\\Desktop\\212803043_Yasemin_Kılınç_MakineProje\\Algoritmalar\\KNN.pkl\"\n",
    "knn_model=joblib.load(knnmodel)\n",
    "lrmodel = r\"C:\\Users\\YASEMİN\\Desktop\\212803043_Yasemin_Kılınç_MakineProje\\Algoritmalar\\linear_regression_model.pkl\"\n",
    "lr_model=joblib.load(lrmodel)\n",
    "gbmodel = r\"C:\\Users\\YASEMİN\\Desktop\\212803043_Yasemin_Kılınç_MakineProje\\Algoritmalar\\gradient_boosting_regression.pkl\"\n",
    "gb_model=joblib.load(gbmodel)"
   ]
  },
  {
   "cell_type": "code",
   "execution_count": 15,
   "id": "5a7de929",
   "metadata": {},
   "outputs": [],
   "source": [
    "data_path = r\"C:\\Users\\YASEMİN\\Desktop\\212803043_Yasemin_Kılınç_MakineProje\\Veri_Toplama\\markalar.xlsx\"\n",
    "markalar = pd.read_excel(data_path)\n",
    "data_path1=r\"C:\\Users\\YASEMİN\\Desktop\\212803043_Yasemin_Kılınç_MakineProje\\Veri_Toplama\\Buzluk_Tipi.xlsx\"\n",
    "buzluk_tipi=pd.read_excel(data_path1)\n",
    "data_path2=r\"C:\\Users\\YASEMİN\\Desktop\\212803043_Yasemin_Kılınç_MakineProje\\Veri_Toplama\\Dondurucu_Yeri.xlsx\"\n",
    "dondurucu_yeri=pd.read_excel(data_path2)\n",
    "data_path3=r\"C:\\Users\\YASEMİN\\Desktop\\212803043_Yasemin_Kılınç_MakineProje\\Veri_Toplama\\Dondurucu_Ozelligi.xlsx\"\n",
    "dondurucu_ozelligi=pd.read_excel(data_path3)\n",
    "data_path4=r\"C:\\Users\\YASEMİN\\Desktop\\212803043_Yasemin_Kılınç_MakineProje\\Veri_Toplama\\Enerji_Sinifi.xlsx\"\n",
    "enerji_sinifi=pd.read_excel(data_path4)\n",
    "data_path9=r\"C:\\Users\\YASEMİN\\Desktop\\212803043_Yasemin_Kılınç_MakineProje\\Veri_Toplama\\Tip.xlsx\"\n",
    "tip=pd.read_excel(data_path9)\n",
    "data_path10=r\"C:\\Users\\YASEMİN\\Desktop\\212803043_Yasemin_Kılınç_MakineProje\\Veri_Toplama\\Ucretsiz_kurulum_Var_Mi.xlsx\"\n",
    "ucretsiz_kurulum_var_mi=pd.read_excel(data_path10)"
   ]
  },
  {
   "cell_type": "code",
   "execution_count": 16,
   "id": "c5c08a31",
   "metadata": {},
   "outputs": [
    {
     "data": {
      "text/html": [
       "<div>\n",
       "<style scoped>\n",
       "    .dataframe tbody tr th:only-of-type {\n",
       "        vertical-align: middle;\n",
       "    }\n",
       "\n",
       "    .dataframe tbody tr th {\n",
       "        vertical-align: top;\n",
       "    }\n",
       "\n",
       "    .dataframe thead th {\n",
       "        text-align: right;\n",
       "    }\n",
       "</style>\n",
       "<table border=\"1\" class=\"dataframe\">\n",
       "  <thead>\n",
       "    <tr style=\"text-align: right;\">\n",
       "      <th></th>\n",
       "      <th>Buzluk_Tipi</th>\n",
       "    </tr>\n",
       "  </thead>\n",
       "  <tbody>\n",
       "    <tr>\n",
       "      <th>0</th>\n",
       "      <td>Buzluksuz</td>\n",
       "    </tr>\n",
       "    <tr>\n",
       "      <th>1</th>\n",
       "      <td>Kartuşlu</td>\n",
       "    </tr>\n",
       "    <tr>\n",
       "      <th>2</th>\n",
       "      <td>Kartuşsuz</td>\n",
       "    </tr>\n",
       "    <tr>\n",
       "      <th>3</th>\n",
       "      <td>Standart</td>\n",
       "    </tr>\n",
       "    <tr>\n",
       "      <th>4</th>\n",
       "      <td>Twist</td>\n",
       "    </tr>\n",
       "  </tbody>\n",
       "</table>\n",
       "</div>"
      ],
      "text/plain": [
       "  Buzluk_Tipi\n",
       "0   Buzluksuz\n",
       "1    Kartuşlu\n",
       "2   Kartuşsuz\n",
       "3    Standart\n",
       "4       Twist"
      ]
     },
     "execution_count": 16,
     "metadata": {},
     "output_type": "execute_result"
    }
   ],
   "source": [
    "buzluk_tipi"
   ]
  },
  {
   "cell_type": "code",
   "execution_count": 17,
   "id": "b239c625",
   "metadata": {},
   "outputs": [
    {
     "data": {
      "text/html": [
       "<div>\n",
       "<style scoped>\n",
       "    .dataframe tbody tr th:only-of-type {\n",
       "        vertical-align: middle;\n",
       "    }\n",
       "\n",
       "    .dataframe tbody tr th {\n",
       "        vertical-align: top;\n",
       "    }\n",
       "\n",
       "    .dataframe thead th {\n",
       "        text-align: right;\n",
       "    }\n",
       "</style>\n",
       "<table border=\"1\" class=\"dataframe\">\n",
       "  <thead>\n",
       "    <tr style=\"text-align: right;\">\n",
       "      <th></th>\n",
       "      <th>Markalar</th>\n",
       "    </tr>\n",
       "  </thead>\n",
       "  <tbody>\n",
       "    <tr>\n",
       "      <th>0</th>\n",
       "      <td>Arçelik</td>\n",
       "    </tr>\n",
       "    <tr>\n",
       "      <th>1</th>\n",
       "      <td>Beko</td>\n",
       "    </tr>\n",
       "    <tr>\n",
       "      <th>2</th>\n",
       "      <td>Bosch</td>\n",
       "    </tr>\n",
       "    <tr>\n",
       "      <th>3</th>\n",
       "      <td>Grundig</td>\n",
       "    </tr>\n",
       "    <tr>\n",
       "      <th>4</th>\n",
       "      <td>LG</td>\n",
       "    </tr>\n",
       "    <tr>\n",
       "      <th>5</th>\n",
       "      <td>Profilo</td>\n",
       "    </tr>\n",
       "    <tr>\n",
       "      <th>6</th>\n",
       "      <td>Samsung</td>\n",
       "    </tr>\n",
       "    <tr>\n",
       "      <th>7</th>\n",
       "      <td>Siemens</td>\n",
       "    </tr>\n",
       "    <tr>\n",
       "      <th>8</th>\n",
       "      <td>VESTEL</td>\n",
       "    </tr>\n",
       "  </tbody>\n",
       "</table>\n",
       "</div>"
      ],
      "text/plain": [
       "  Markalar\n",
       "0  Arçelik\n",
       "1     Beko\n",
       "2    Bosch\n",
       "3  Grundig\n",
       "4       LG\n",
       "5  Profilo\n",
       "6  Samsung\n",
       "7  Siemens\n",
       "8   VESTEL"
      ]
     },
     "execution_count": 17,
     "metadata": {},
     "output_type": "execute_result"
    }
   ],
   "source": [
    "markalar"
   ]
  },
  {
   "cell_type": "code",
   "execution_count": 18,
   "id": "26ee6705",
   "metadata": {},
   "outputs": [],
   "source": [
    "def marka_index(Markalar):\n",
    "    index = int(markalar[markalar[\"Markalar\"] == Markalar].index.values[0])\n",
    "    return index\n",
    "\n",
    "def buzluk_tipi_index(Buzluk_Tipi):\n",
    "    index = int(buzluk_tipi[buzluk_tipi[\"Buzluk_Tipi\"] == Buzluk_Tipi].index.values[0])\n",
    "    return index\n",
    "\n",
    "def dondurucu_yeri_index(Dondurucu_Yeri):\n",
    "    index = int(dondurucu_yeri[dondurucu_yeri[\"Dondurucu_Yeri\"] == Dondurucu_Yeri].index.values[0])\n",
    "    return index\n",
    "\n",
    "def dondurucu_ozelligi_index(Dondurucu_Ozelligi):\n",
    "    index = int(dondurucu_ozelligi[dondurucu_ozelligi[\"Dondurucu_Ozelligi\"] == Dondurucu_Ozelligi].index.values[0])\n",
    "    return index\n",
    "\n",
    "def enerji_sinifi_index(Enerji_Sinifi):\n",
    "    index = int(enerji_sinifi[enerji_sinifi[\"Enerji_Sinifi\"] == Enerji_Sinifi].index.values[0])\n",
    "    return index\n",
    "\n",
    "def tip_index(Tip):\n",
    "    index = int(tip[tip[\"Tip\"] == Tip].index.values[0])\n",
    "    return index\n",
    "\n",
    "def ucretsiz_kurulum_var_mi_index(Ucretsiz_Kurulum_Var_Mi):\n",
    "    index = int(ucretsiz_kurulum_var_mi[ucretsiz_kurulum_var_mi[\"Ucretsiz_Kurulum_Var_Mi\"] == Ucretsiz_Kurulum_Var_Mi].index.values[0])\n",
    "    return index"
   ]
  },
  {
   "cell_type": "code",
   "execution_count": 19,
   "id": "d5c4f0d0",
   "metadata": {},
   "outputs": [],
   "source": [
    "def create_prediction_value(Markalar,Buzluk_Tipi,Derinlik,Dondurucu_Yeri,Dondurucu_Ozelligi,Enerji_Sinifi,Garanti_Suresi,Tip,Toplam_Hacim,Ucretsiz_Kurulum_Var_Mi):\n",
    "    res = pd.DataFrame(data = \n",
    "            {'Markalar':[Markalar],'Buzluk_Tipi':[Buzluk_Tipi],'Derinlik':[Derinlik],\n",
    "             'Dondurucu_Yeri':[Dondurucu_Yeri],'Dondurucu_Ozelligi':[Dondurucu_Ozelligi],\n",
    "              'Enerji_Sinifi':[Enerji_Sinifi],'Garanti_Suresi':[Garanti_Suresi],'Tip':[Tip],'Toplam_Hacim':[Toplam_Hacim],'Ucretsiz_Kurulum_Var_Mi':[Ucretsiz_Kurulum_Var_Mi]})\n",
    "    return res\n"
   ]
  },
  {
   "cell_type": "code",
   "execution_count": 20,
   "id": "33e6ed72",
   "metadata": {},
   "outputs": [],
   "source": [
    "def predict_models(res):\n",
    "    print(\"Decision Tree Result: \"+str(int(dt_model.predict(res))).strip('[]')+\"TL\")\n",
    "    print(\"Random Forest Result: \"+str(int(rf_model.predict(res))).strip('[]')+\"TL\")\n",
    "    print(\"Svr Regression Result: \"+str(int(sv_model.predict(res))).strip('[]')+\"TL\")\n",
    "    print(\"Elastic Result: \"+str(int(el_model.predict(res))).strip('[]')+\"TL\")\n",
    "    print(\"KNN Result: \"+str(int(knn_model.predict(res))).strip('[]')+\"TL\")\n",
    "    print(\"Linear Regression Result: \"+str(int(lr_model.predict(res))).strip('[]')+\"TL\")\n",
    "    print(\"Gradient Boosting Result: \"+str(int(gb_model.predict(res))).strip('[]')+\"TL\")\n",
    "    "
   ]
  },
  {
   "cell_type": "code",
   "execution_count": 21,
   "id": "058ac2ef",
   "metadata": {
    "scrolled": true
   },
   "outputs": [
    {
     "name": "stdout",
     "output_type": "stream",
     "text": [
      "Decision Tree Result: 14749TL\n",
      "Random Forest Result: 12012TL\n",
      "Svr Regression Result: 0TL\n",
      "Elastic Result: 1452849TL\n",
      "KNN Result: 8329TL\n",
      "Linear Regression Result: 2118TL\n",
      "Gradient Boosting Result: 9675TL\n"
     ]
    },
    {
     "name": "stderr",
     "output_type": "stream",
     "text": [
      "C:\\ProgramData\\anaconda3\\Lib\\site-packages\\sklearn\\base.py:457: UserWarning: X has feature names, but DecisionTreeRegressor was fitted without feature names\n",
      "  warnings.warn(\n",
      "C:\\ProgramData\\anaconda3\\Lib\\site-packages\\sklearn\\base.py:457: UserWarning: X has feature names, but RandomForestRegressor was fitted without feature names\n",
      "  warnings.warn(\n",
      "C:\\ProgramData\\anaconda3\\Lib\\site-packages\\sklearn\\base.py:457: UserWarning: X has feature names, but StandardScaler was fitted without feature names\n",
      "  warnings.warn(\n",
      "C:\\ProgramData\\anaconda3\\Lib\\site-packages\\sklearn\\base.py:457: UserWarning: X has feature names, but ElasticNet was fitted without feature names\n",
      "  warnings.warn(\n",
      "C:\\ProgramData\\anaconda3\\Lib\\site-packages\\sklearn\\base.py:457: UserWarning: X has feature names, but StandardScaler was fitted without feature names\n",
      "  warnings.warn(\n",
      "C:\\ProgramData\\anaconda3\\Lib\\site-packages\\sklearn\\base.py:457: UserWarning: X has feature names, but LinearRegression was fitted without feature names\n",
      "  warnings.warn(\n",
      "C:\\ProgramData\\anaconda3\\Lib\\site-packages\\sklearn\\base.py:457: UserWarning: X has feature names, but GradientBoostingRegressor was fitted without feature names\n",
      "  warnings.warn(\n"
     ]
    }
   ],
   "source": [
    "predict_value = create_prediction_value(\n",
    "    marka_index(\"VESTEL\"),\n",
    "    buzluk_tipi_index(\"Standart\"),\n",
    "    54,\n",
    "    dondurucu_yeri_index(\"Üstte\"),\n",
    "    dondurucu_ozelligi_index(\"Statik\"),\n",
    "    enerji_sinifi_index(\"F\"),\n",
    "    3,\n",
    "    tip_index(\"ÇiftKapılı\"),\n",
    "    474,\n",
    "    ucretsiz_kurulum_var_mi_index(\"Yok\")  # ucretsiz_kurulum_var_mi_index kullanılmalı\n",
    ")\n",
    "predict_models(predict_value)\n",
    "\n"
   ]
  },
  {
   "cell_type": "code",
   "execution_count": 22,
   "id": "fed13cde",
   "metadata": {},
   "outputs": [
    {
     "name": "stdout",
     "output_type": "stream",
     "text": [
      "Decision Tree Result: 47000TL\n",
      "Random Forest Result: 46145TL\n",
      "Svr Regression Result: 0TL\n",
      "Elastic Result: 1553808TL\n",
      "KNN Result: 38249TL\n",
      "Linear Regression Result: 47123TL\n",
      "Gradient Boosting Result: 44696TL\n"
     ]
    },
    {
     "name": "stderr",
     "output_type": "stream",
     "text": [
      "C:\\ProgramData\\anaconda3\\Lib\\site-packages\\sklearn\\base.py:457: UserWarning: X has feature names, but DecisionTreeRegressor was fitted without feature names\n",
      "  warnings.warn(\n",
      "C:\\ProgramData\\anaconda3\\Lib\\site-packages\\sklearn\\base.py:457: UserWarning: X has feature names, but RandomForestRegressor was fitted without feature names\n",
      "  warnings.warn(\n",
      "C:\\ProgramData\\anaconda3\\Lib\\site-packages\\sklearn\\base.py:457: UserWarning: X has feature names, but StandardScaler was fitted without feature names\n",
      "  warnings.warn(\n",
      "C:\\ProgramData\\anaconda3\\Lib\\site-packages\\sklearn\\base.py:457: UserWarning: X has feature names, but ElasticNet was fitted without feature names\n",
      "  warnings.warn(\n",
      "C:\\ProgramData\\anaconda3\\Lib\\site-packages\\sklearn\\base.py:457: UserWarning: X has feature names, but StandardScaler was fitted without feature names\n",
      "  warnings.warn(\n",
      "C:\\ProgramData\\anaconda3\\Lib\\site-packages\\sklearn\\base.py:457: UserWarning: X has feature names, but LinearRegression was fitted without feature names\n",
      "  warnings.warn(\n",
      "C:\\ProgramData\\anaconda3\\Lib\\site-packages\\sklearn\\base.py:457: UserWarning: X has feature names, but GradientBoostingRegressor was fitted without feature names\n",
      "  warnings.warn(\n"
     ]
    }
   ],
   "source": [
    "predict_value = create_prediction_value(\n",
    "    marka_index(\"Bosch\"),\n",
    "    buzluk_tipi_index(\"Standart\"),\n",
    "    81,\n",
    "    dondurucu_yeri_index(\"Altta\"),\n",
    "    dondurucu_ozelligi_index(\"NoFrost\"),\n",
    "    enerji_sinifi_index(\"D\"),\n",
    "    3,\n",
    "    tip_index(\"KombiTipi\"),\n",
    "    474,\n",
    "    ucretsiz_kurulum_var_mi_index(\"Var\")  # ucretsiz_kurulum_var_mi_index kullanılmalı\n",
    ")\n",
    "predict_models(predict_value)"
   ]
  },
  {
   "cell_type": "raw",
   "id": "d85d7560",
   "metadata": {},
   "source": []
  }
 ],
 "metadata": {
  "kernelspec": {
   "display_name": "Python 3 (ipykernel)",
   "language": "python",
   "name": "python3"
  },
  "language_info": {
   "codemirror_mode": {
    "name": "ipython",
    "version": 3
   },
   "file_extension": ".py",
   "mimetype": "text/x-python",
   "name": "python",
   "nbconvert_exporter": "python",
   "pygments_lexer": "ipython3",
   "version": "3.11.5"
  }
 },
 "nbformat": 4,
 "nbformat_minor": 5
}
