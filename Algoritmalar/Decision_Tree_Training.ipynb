{
 "cells": [
  {
   "cell_type": "code",
   "execution_count": 11,
   "id": "d37b227a",
   "metadata": {},
   "outputs": [],
   "source": [
    "import pandas as pd #Veri işleme, analiz\n",
    "import numpy as np #Hesaplama\n",
    "import matplotlib.pyplot as plt #Veri görselleştirme"
   ]
  },
  {
   "cell_type": "code",
   "execution_count": 12,
   "id": "d04c27fa",
   "metadata": {},
   "outputs": [],
   "source": [
    "import shutil #Dosya ve dizin işlemleri için kullanılır\n",
    "# Veri setini yükle\n",
    "dosya_yolu = r\"C:\\Users\\YASEMİN\\Desktop\\212803043_Yasemin_Kılınç_MakineProje\\Veri_Toplama\\veri_on_isleme2.xlsx\"\n",
    "dataset = pd.read_excel(dosya_yolu)"
   ]
  },
  {
   "cell_type": "code",
   "execution_count": 13,
   "id": "a0761658",
   "metadata": {
    "scrolled": true
   },
   "outputs": [
    {
     "data": {
      "text/html": [
       "<div>\n",
       "<style scoped>\n",
       "    .dataframe tbody tr th:only-of-type {\n",
       "        vertical-align: middle;\n",
       "    }\n",
       "\n",
       "    .dataframe tbody tr th {\n",
       "        vertical-align: top;\n",
       "    }\n",
       "\n",
       "    .dataframe thead th {\n",
       "        text-align: right;\n",
       "    }\n",
       "</style>\n",
       "<table border=\"1\" class=\"dataframe\">\n",
       "  <thead>\n",
       "    <tr style=\"text-align: right;\">\n",
       "      <th></th>\n",
       "      <th>Markalar</th>\n",
       "      <th>Buzluk_Tipi</th>\n",
       "      <th>Derinlik</th>\n",
       "      <th>Dondurucu_Yeri</th>\n",
       "      <th>Dondurucu_Ozelligi</th>\n",
       "      <th>Enerji_Sinifi</th>\n",
       "      <th>Garanti_Suresi</th>\n",
       "      <th>Tip</th>\n",
       "      <th>Toplam_Hacim</th>\n",
       "      <th>Ucretsiz_Kurulum_Var_Mi</th>\n",
       "      <th>Fiyat</th>\n",
       "    </tr>\n",
       "  </thead>\n",
       "  <tbody>\n",
       "    <tr>\n",
       "      <th>0</th>\n",
       "      <td>8</td>\n",
       "      <td>3</td>\n",
       "      <td>72.000000</td>\n",
       "      <td>3</td>\n",
       "      <td>1</td>\n",
       "      <td>6</td>\n",
       "      <td>3</td>\n",
       "      <td>4</td>\n",
       "      <td>474.581967</td>\n",
       "      <td>0</td>\n",
       "      <td>15100</td>\n",
       "    </tr>\n",
       "    <tr>\n",
       "      <th>1</th>\n",
       "      <td>8</td>\n",
       "      <td>3</td>\n",
       "      <td>54.000000</td>\n",
       "      <td>3</td>\n",
       "      <td>2</td>\n",
       "      <td>6</td>\n",
       "      <td>3</td>\n",
       "      <td>4</td>\n",
       "      <td>474.581967</td>\n",
       "      <td>1</td>\n",
       "      <td>8790</td>\n",
       "    </tr>\n",
       "    <tr>\n",
       "      <th>2</th>\n",
       "      <td>5</td>\n",
       "      <td>3</td>\n",
       "      <td>72.961945</td>\n",
       "      <td>3</td>\n",
       "      <td>1</td>\n",
       "      <td>6</td>\n",
       "      <td>2</td>\n",
       "      <td>4</td>\n",
       "      <td>526.000000</td>\n",
       "      <td>0</td>\n",
       "      <td>24279</td>\n",
       "    </tr>\n",
       "    <tr>\n",
       "      <th>3</th>\n",
       "      <td>8</td>\n",
       "      <td>3</td>\n",
       "      <td>48.000000</td>\n",
       "      <td>3</td>\n",
       "      <td>2</td>\n",
       "      <td>6</td>\n",
       "      <td>3</td>\n",
       "      <td>3</td>\n",
       "      <td>474.581967</td>\n",
       "      <td>1</td>\n",
       "      <td>4775</td>\n",
       "    </tr>\n",
       "    <tr>\n",
       "      <th>4</th>\n",
       "      <td>4</td>\n",
       "      <td>1</td>\n",
       "      <td>72.961945</td>\n",
       "      <td>0</td>\n",
       "      <td>1</td>\n",
       "      <td>5</td>\n",
       "      <td>3</td>\n",
       "      <td>0</td>\n",
       "      <td>601.000000</td>\n",
       "      <td>0</td>\n",
       "      <td>109899</td>\n",
       "    </tr>\n",
       "  </tbody>\n",
       "</table>\n",
       "</div>"
      ],
      "text/plain": [
       "   Markalar  Buzluk_Tipi   Derinlik  Dondurucu_Yeri  Dondurucu_Ozelligi  \\\n",
       "0         8            3  72.000000               3                   1   \n",
       "1         8            3  54.000000               3                   2   \n",
       "2         5            3  72.961945               3                   1   \n",
       "3         8            3  48.000000               3                   2   \n",
       "4         4            1  72.961945               0                   1   \n",
       "\n",
       "   Enerji_Sinifi  Garanti_Suresi  Tip  Toplam_Hacim  Ucretsiz_Kurulum_Var_Mi  \\\n",
       "0              6               3    4    474.581967                        0   \n",
       "1              6               3    4    474.581967                        1   \n",
       "2              6               2    4    526.000000                        0   \n",
       "3              6               3    3    474.581967                        1   \n",
       "4              5               3    0    601.000000                        0   \n",
       "\n",
       "    Fiyat  \n",
       "0   15100  \n",
       "1    8790  \n",
       "2   24279  \n",
       "3    4775  \n",
       "4  109899  "
      ]
     },
     "execution_count": 13,
     "metadata": {},
     "output_type": "execute_result"
    }
   ],
   "source": [
    "dataset.head()"
   ]
  },
  {
   "cell_type": "code",
   "execution_count": 14,
   "id": "88141978",
   "metadata": {},
   "outputs": [],
   "source": [
    "x=dataset.iloc[:, 0:10].values #Bağımsız değişkenler için veri seçildi\n",
    "y=dataset.iloc[:, 10].values #Bağımlı değişken için veri seçildi\n",
    "y=y.reshape(-1,1) # Bağımlı değişkenin şekli yeniden düzenlendi"
   ]
  },
  {
   "cell_type": "code",
   "execution_count": 15,
   "id": "87a9b750",
   "metadata": {},
   "outputs": [],
   "source": [
    "from sklearn.model_selection import train_test_split  # Veri setini eğitim ve test setlerine bölmek için kullanılır\n",
    "x_train, x_test, y_train, y_test =train_test_split(x,y,test_size=0.2, random_state=0) #Veri seti eğitim ve test setlerine bölündü"
   ]
  },
  {
   "cell_type": "code",
   "execution_count": 16,
   "id": "eacdad0d",
   "metadata": {},
   "outputs": [],
   "source": [
    "from sklearn.tree import DecisionTreeRegressor # DecisionTreeRegressor algoritması kullanılarak bir regresyon modeli oluşturuldu\n",
    "regressor=DecisionTreeRegressor(random_state=0)  # DecisionTreeRegressor modeli oluşturuldu\n",
    "regressor.fit(x_train,y_train) # Model eğitildi\n",
    "y_predDT=regressor.predict(x_test) # Model kullanılarak tahminler yapıldı"
   ]
  },
  {
   "cell_type": "code",
   "execution_count": 17,
   "id": "d46adbe1",
   "metadata": {},
   "outputs": [],
   "source": [
    "from sklearn.metrics import r2_score  # R^2 skoru hesaplamak için kullanılır\n",
    "DT_RSCORE=r2_score(y_test, y_predDT) # Decision Tree Regressor modelinin R^2 skoru hesaplandı"
   ]
  },
  {
   "cell_type": "code",
   "execution_count": 18,
   "id": "0131360e",
   "metadata": {},
   "outputs": [
    {
     "name": "stdout",
     "output_type": "stream",
     "text": [
      "0.4764616949313163\n"
     ]
    }
   ],
   "source": [
    "print(DT_RSCORE)"
   ]
  },
  {
   "cell_type": "code",
   "execution_count": 19,
   "id": "5fe1b05a",
   "metadata": {},
   "outputs": [
    {
     "data": {
      "text/plain": [
       "['decision_tree_training.pkl']"
      ]
     },
     "execution_count": 19,
     "metadata": {},
     "output_type": "execute_result"
    }
   ],
   "source": [
    "import joblib # Modelin kaydedilmesi için kullanılır\n",
    "joblib.dump(regressor,'decision_tree_training.pkl') # Decision Tree Regressor modeli 'decision_tree_training.pkl' dosyasına kaydedildi"
   ]
  },
  {
   "cell_type": "code",
   "execution_count": null,
   "id": "601f9214",
   "metadata": {},
   "outputs": [],
   "source": []
  }
 ],
 "metadata": {
  "kernelspec": {
   "display_name": "Python 3 (ipykernel)",
   "language": "python",
   "name": "python3"
  },
  "language_info": {
   "codemirror_mode": {
    "name": "ipython",
    "version": 3
   },
   "file_extension": ".py",
   "mimetype": "text/x-python",
   "name": "python",
   "nbconvert_exporter": "python",
   "pygments_lexer": "ipython3",
   "version": "3.11.5"
  }
 },
 "nbformat": 4,
 "nbformat_minor": 5
}
