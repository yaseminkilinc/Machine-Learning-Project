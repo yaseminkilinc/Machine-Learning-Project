{
 "cells": [
  {
   "cell_type": "code",
   "execution_count": 5,
   "id": "74bd3a89",
   "metadata": {},
   "outputs": [],
   "source": [
    "import pandas as pd\n",
    "from sklearn.model_selection import train_test_split\n",
    "from sklearn.ensemble import GradientBoostingRegressor\n",
    "from sklearn.metrics import r2_score\n",
    "import joblib"
   ]
  },
  {
   "cell_type": "code",
   "execution_count": 6,
   "id": "b510ded1",
   "metadata": {},
   "outputs": [],
   "source": [
    "# Veri setini yükle\n",
    "dosya_yolu = r\"C:\\Users\\YASEMİN\\Desktop\\212803043_Yasemin_Kılınç_MakineProje\\Veri_Toplama\\veri_on_isleme2.xlsx\"\n",
    "dataset = pd.read_excel(dosya_yolu)\n",
    "\n",
    "# Bağımsız değişkenleri ve hedef değişkeni seç\n",
    "x = dataset.iloc[:, 0:10].values\n",
    "y = dataset.iloc[:, 10].values\n",
    "\n",
    "# Verileri eğitim ve test setlerine ayır\n",
    "x_train, x_test, y_train, y_test = train_test_split(x, y, test_size=0.2, random_state=0)"
   ]
  },
  {
   "cell_type": "code",
   "execution_count": 7,
   "id": "ff91c4f4",
   "metadata": {},
   "outputs": [],
   "source": [
    "# Gradient Boosting modelini oluştur ve eğit\n",
    "regressor = GradientBoostingRegressor(random_state=0)\n",
    "regressor.fit(x_train, y_train)\n",
    "\n",
    "# Test seti üzerinde tahmin yap\n",
    "y_pred = regressor.predict(x_test)"
   ]
  },
  {
   "cell_type": "code",
   "execution_count": 8,
   "id": "2729dbe1",
   "metadata": {},
   "outputs": [
    {
     "name": "stdout",
     "output_type": "stream",
     "text": [
      "R-squared (R2) Skoru: 0.5690370218332308\n"
     ]
    },
    {
     "data": {
      "text/plain": [
       "['gradient_boosting_regression.pkl']"
      ]
     },
     "execution_count": 8,
     "metadata": {},
     "output_type": "execute_result"
    }
   ],
   "source": [
    "# R-squared (R2) skoru hesapla\n",
    "r2 = r2_score(y_test, y_pred)\n",
    "print(\"R-squared (R2) Skoru:\", r2)\n",
    "\n",
    "# Eğitilmiş modeli kaydet\n",
    "joblib.dump(regressor, 'gradient_boosting_regression.pkl')"
   ]
  },
  {
   "cell_type": "code",
   "execution_count": null,
   "id": "8b5d2649",
   "metadata": {},
   "outputs": [],
   "source": []
  },
  {
   "cell_type": "code",
   "execution_count": null,
   "id": "cf73ebb4",
   "metadata": {},
   "outputs": [],
   "source": []
  }
 ],
 "metadata": {
  "kernelspec": {
   "display_name": "Python 3 (ipykernel)",
   "language": "python",
   "name": "python3"
  },
  "language_info": {
   "codemirror_mode": {
    "name": "ipython",
    "version": 3
   },
   "file_extension": ".py",
   "mimetype": "text/x-python",
   "name": "python",
   "nbconvert_exporter": "python",
   "pygments_lexer": "ipython3",
   "version": "3.11.5"
  }
 },
 "nbformat": 4,
 "nbformat_minor": 5
}
