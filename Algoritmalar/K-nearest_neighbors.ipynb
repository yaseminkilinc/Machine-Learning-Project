{
 "cells": [
  {
   "cell_type": "code",
   "execution_count": 6,
   "id": "f49368b6",
   "metadata": {},
   "outputs": [],
   "source": [
    "from sklearn.neighbors import KNeighborsRegressor\n",
    "from sklearn.preprocessing import StandardScaler\n",
    "from sklearn.pipeline import make_pipeline\n",
    "from sklearn.model_selection import train_test_split\n",
    "import joblib\n",
    "import pandas as pd\n",
    "import numpy as np\n",
    "import matplotlib.pyplot as plt\n",
    "from sklearn.metrics import r2_score"
   ]
  },
  {
   "cell_type": "code",
   "execution_count": 7,
   "id": "3215815b",
   "metadata": {},
   "outputs": [],
   "source": [
    "dosya_yolu = r\"C:\\Users\\YASEMİN\\Desktop\\212803043_Yasemin_Kılınç_MakineProje\\Veri_Toplama\\veri_on_isleme2.xlsx\"\n",
    "dataset = pd.read_excel(dosya_yolu)\n",
    "\n",
    "# Bağımsız değişkenleri ve hedef değişkeni seç\n",
    "X = dataset.iloc[:, 0:10].values  # Fiyat sütunu hariç tüm sütunlar\n",
    "y = dataset.iloc[:, 10].values  # Fiyat sütunu\n",
    "\n",
    "# Verileri eğitim ve test setlerine ayır\n",
    "X_train, X_test, y_train, y_test = train_test_split(X, y, test_size=0.2, random_state=0)"
   ]
  },
  {
   "cell_type": "code",
   "execution_count": 8,
   "id": "908a230b",
   "metadata": {},
   "outputs": [],
   "source": [
    "# K-En Yakın Komşu Regresyon modelini oluştur ve eğit\n",
    "regressor = make_pipeline(StandardScaler(), KNeighborsRegressor(n_neighbors=5))\n",
    "regressor.fit(X_train, y_train)\n",
    "\n",
    "# Test seti üzerinde tahmin yap\n",
    "y_pred = regressor.predict(X_test)"
   ]
  },
  {
   "cell_type": "code",
   "execution_count": 9,
   "id": "702cee8c",
   "metadata": {},
   "outputs": [
    {
     "name": "stdout",
     "output_type": "stream",
     "text": [
      "R-squared (R2) Skoru: 0.3754959239009804\n"
     ]
    }
   ],
   "source": [
    "# R-squared (R2) skoru hesapla\n",
    "r2 = r2_score(y_test, y_pred)\n",
    "print(\"R-squared (R2) Skoru:\", r2)"
   ]
  },
  {
   "cell_type": "code",
   "execution_count": 10,
   "id": "84c1b1df",
   "metadata": {},
   "outputs": [
    {
     "data": {
      "text/plain": [
       "['KNN.pkl']"
      ]
     },
     "execution_count": 10,
     "metadata": {},
     "output_type": "execute_result"
    }
   ],
   "source": [
    "joblib.dump(regressor, 'KNN.pkl')"
   ]
  },
  {
   "cell_type": "code",
   "execution_count": null,
   "id": "927769d6",
   "metadata": {},
   "outputs": [],
   "source": []
  }
 ],
 "metadata": {
  "kernelspec": {
   "display_name": "Python 3 (ipykernel)",
   "language": "python",
   "name": "python3"
  },
  "language_info": {
   "codemirror_mode": {
    "name": "ipython",
    "version": 3
   },
   "file_extension": ".py",
   "mimetype": "text/x-python",
   "name": "python",
   "nbconvert_exporter": "python",
   "pygments_lexer": "ipython3",
   "version": "3.11.5"
  }
 },
 "nbformat": 4,
 "nbformat_minor": 5
}
