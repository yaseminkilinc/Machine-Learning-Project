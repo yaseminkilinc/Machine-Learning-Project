{
 "cells": [
  {
   "cell_type": "code",
   "execution_count": 6,
   "id": "8f3d3f9a",
   "metadata": {},
   "outputs": [],
   "source": [
    "from sklearn.model_selection import train_test_split\n",
    "from sklearn.linear_model import LinearRegression\n",
    "from sklearn.metrics import r2_score\n",
    "import joblib\n",
    "import pandas as pd\n",
    "import numpy as np"
   ]
  },
  {
   "cell_type": "code",
   "execution_count": 7,
   "id": "985001fe",
   "metadata": {},
   "outputs": [],
   "source": [
    "dosya_yolu = r\"C:\\Users\\YASEMİN\\Desktop\\212803043_Yasemin_Kılınç_MakineProje\\Veri_Toplama\\veri_on_isleme2.xlsx\"\n",
    "dataset = pd.read_excel(dosya_yolu)\n",
    "x=dataset.iloc[:, 0:10].values\n",
    "y=dataset.iloc[:, 10].values\n",
    "y=y.reshape(-1,1)\n"
   ]
  },
  {
   "cell_type": "code",
   "execution_count": 8,
   "id": "d863c954",
   "metadata": {},
   "outputs": [],
   "source": [
    "# Eğitim ve test setlerine ayırma\n",
    "x_train, x_test, y_train, y_test = train_test_split(x, y, test_size=0.2, random_state=0)\n",
    "\n",
    "# Lineer Regresyon modelinin eğitimi\n",
    "regressor = LinearRegression()\n",
    "regressor.fit(x_train, y_train)\n",
    "y_pred = regressor.predict(x_test)"
   ]
  },
  {
   "cell_type": "code",
   "execution_count": 9,
   "id": "cb01923c",
   "metadata": {},
   "outputs": [
    {
     "name": "stdout",
     "output_type": "stream",
     "text": [
      "R2 Score: 0.22544391950836018\n"
     ]
    }
   ],
   "source": [
    "# R2 skoru hesaplama\n",
    "r2 = r2_score(y_test, y_pred)\n",
    "print(f\"R2 Score: {r2}\")"
   ]
  },
  {
   "cell_type": "code",
   "execution_count": 10,
   "id": "358078a8",
   "metadata": {},
   "outputs": [
    {
     "data": {
      "text/plain": [
       "['linear_regression_model.pkl']"
      ]
     },
     "execution_count": 10,
     "metadata": {},
     "output_type": "execute_result"
    }
   ],
   "source": [
    "# Modelin kaydedilmesi\n",
    "joblib.dump(regressor, 'linear_regression_model.pkl')"
   ]
  },
  {
   "cell_type": "code",
   "execution_count": null,
   "id": "3f7add67",
   "metadata": {},
   "outputs": [],
   "source": []
  }
 ],
 "metadata": {
  "kernelspec": {
   "display_name": "Python 3 (ipykernel)",
   "language": "python",
   "name": "python3"
  },
  "language_info": {
   "codemirror_mode": {
    "name": "ipython",
    "version": 3
   },
   "file_extension": ".py",
   "mimetype": "text/x-python",
   "name": "python",
   "nbconvert_exporter": "python",
   "pygments_lexer": "ipython3",
   "version": "3.11.5"
  }
 },
 "nbformat": 4,
 "nbformat_minor": 5
}
